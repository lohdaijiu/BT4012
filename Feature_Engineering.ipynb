{
  "nbformat": 4,
  "nbformat_minor": 0,
  "metadata": {
    "colab": {
      "provenance": []
    },
    "kernelspec": {
      "name": "python3",
      "display_name": "Python 3"
    },
    "language_info": {
      "name": "python"
    }
  },
  "cells": [
    {
      "cell_type": "markdown",
      "source": [
        "# Import required package for feature engineering"
      ],
      "metadata": {
        "id": "KGO8GM4gRcCO"
      }
    },
    {
      "cell_type": "code",
      "source": [
        "import pandas as pd\n",
        "import numpy as np\n",
        "import pandas as pd\n",
        "from sklearn.preprocessing import OrdinalEncoder\n",
        "\n",
        "# For mapping to Google Drive\n",
        "from google.colab import drive"
      ],
      "metadata": {
        "id": "EylnnlmIfsEt"
      },
      "execution_count": null,
      "outputs": []
    },
    {
      "cell_type": "code",
      "execution_count": null,
      "metadata": {
        "id": "4gS53LAZfN1J"
      },
      "outputs": [],
      "source": [
        "df = pd.read_csv(\"https://raw.githubusercontent.com/lohdaijiu/BT4012/main/fraud_oracle.csv\")"
      ]
    },
    {
      "cell_type": "code",
      "source": [
        "df.columns"
      ],
      "metadata": {
        "colab": {
          "base_uri": "https://localhost:8080/"
        },
        "id": "g4TOMpaKggu5",
        "outputId": "31216f4c-4bb6-4b04-b806-5756f0c73cdf"
      },
      "execution_count": null,
      "outputs": [
        {
          "output_type": "execute_result",
          "data": {
            "text/plain": [
              "Index(['Month', 'WeekOfMonth', 'DayOfWeek', 'Make', 'AccidentArea',\n",
              "       'DayOfWeekClaimed', 'MonthClaimed', 'WeekOfMonthClaimed', 'Sex',\n",
              "       'MaritalStatus', 'Age', 'Fault', 'PolicyType', 'VehicleCategory',\n",
              "       'VehiclePrice', 'FraudFound_P', 'PolicyNumber', 'RepNumber',\n",
              "       'Deductible', 'DriverRating', 'Days_Policy_Accident',\n",
              "       'Days_Policy_Claim', 'PastNumberOfClaims', 'AgeOfVehicle',\n",
              "       'AgeOfPolicyHolder', 'PoliceReportFiled', 'WitnessPresent', 'AgentType',\n",
              "       'NumberOfSuppliments', 'AddressChange_Claim', 'NumberOfCars', 'Year',\n",
              "       'BasePolicy'],\n",
              "      dtype='object')"
            ]
          },
          "metadata": {},
          "execution_count": 3
        }
      ]
    },
    {
      "cell_type": "code",
      "source": [
        "df"
      ],
      "metadata": {
        "id": "UfIGygjopBGH",
        "colab": {
          "base_uri": "https://localhost:8080/",
          "height": 488
        },
        "outputId": "bdb2d212-5b63-4839-f22d-b16bfd8a51a4"
      },
      "execution_count": null,
      "outputs": [
        {
          "output_type": "execute_result",
          "data": {
            "text/plain": [
              "      Month  WeekOfMonth  DayOfWeek     Make AccidentArea DayOfWeekClaimed  \\\n",
              "0       Dec            5  Wednesday    Honda        Urban          Tuesday   \n",
              "1       Jan            3  Wednesday    Honda        Urban           Monday   \n",
              "2       Oct            5     Friday    Honda        Urban         Thursday   \n",
              "3       Jun            2   Saturday   Toyota        Rural           Friday   \n",
              "4       Jan            5     Monday    Honda        Urban          Tuesday   \n",
              "...     ...          ...        ...      ...          ...              ...   \n",
              "15415   Nov            4     Friday   Toyota        Urban          Tuesday   \n",
              "15416   Nov            5   Thursday  Pontiac        Urban           Friday   \n",
              "15417   Nov            5   Thursday   Toyota        Rural           Friday   \n",
              "15418   Dec            1     Monday   Toyota        Urban         Thursday   \n",
              "15419   Dec            2  Wednesday   Toyota        Urban         Thursday   \n",
              "\n",
              "      MonthClaimed  WeekOfMonthClaimed     Sex MaritalStatus  ...  \\\n",
              "0              Jan                   1  Female        Single  ...   \n",
              "1              Jan                   4    Male        Single  ...   \n",
              "2              Nov                   2    Male       Married  ...   \n",
              "3              Jul                   1    Male       Married  ...   \n",
              "4              Feb                   2  Female        Single  ...   \n",
              "...            ...                 ...     ...           ...  ...   \n",
              "15415          Nov                   5    Male       Married  ...   \n",
              "15416          Dec                   1    Male       Married  ...   \n",
              "15417          Dec                   1    Male        Single  ...   \n",
              "15418          Dec                   2  Female       Married  ...   \n",
              "15419          Dec                   3    Male        Single  ...   \n",
              "\n",
              "       AgeOfVehicle AgeOfPolicyHolder PoliceReportFiled WitnessPresent  \\\n",
              "0           3 years          26 to 30                No             No   \n",
              "1           6 years          31 to 35               Yes             No   \n",
              "2           7 years          41 to 50                No             No   \n",
              "3       more than 7          51 to 65               Yes             No   \n",
              "4           5 years          31 to 35                No             No   \n",
              "...             ...               ...               ...            ...   \n",
              "15415       6 years          31 to 35                No             No   \n",
              "15416       6 years          31 to 35                No             No   \n",
              "15417       5 years          26 to 30                No             No   \n",
              "15418       2 years          31 to 35                No             No   \n",
              "15419       5 years          26 to 30                No             No   \n",
              "\n",
              "      AgentType  NumberOfSuppliments  AddressChange_Claim  NumberOfCars  Year  \\\n",
              "0      External                 none               1 year        3 to 4  1994   \n",
              "1      External                 none            no change     1 vehicle  1994   \n",
              "2      External                 none            no change     1 vehicle  1994   \n",
              "3      External          more than 5            no change     1 vehicle  1994   \n",
              "4      External                 none            no change     1 vehicle  1994   \n",
              "...         ...                  ...                  ...           ...   ...   \n",
              "15415  External                 none            no change     1 vehicle  1996   \n",
              "15416  External          more than 5            no change        3 to 4  1996   \n",
              "15417  External               1 to 2            no change     1 vehicle  1996   \n",
              "15418  External          more than 5            no change     1 vehicle  1996   \n",
              "15419  External               1 to 2            no change     1 vehicle  1996   \n",
              "\n",
              "       BasePolicy  \n",
              "0       Liability  \n",
              "1       Collision  \n",
              "2       Collision  \n",
              "3       Liability  \n",
              "4       Collision  \n",
              "...           ...  \n",
              "15415   Collision  \n",
              "15416   Liability  \n",
              "15417   Collision  \n",
              "15418  All Perils  \n",
              "15419   Collision  \n",
              "\n",
              "[15420 rows x 33 columns]"
            ],
            "text/html": [
              "\n",
              "  <div id=\"df-628d8d18-71b3-4f58-87ce-f1f4d775c812\">\n",
              "    <div class=\"colab-df-container\">\n",
              "      <div>\n",
              "<style scoped>\n",
              "    .dataframe tbody tr th:only-of-type {\n",
              "        vertical-align: middle;\n",
              "    }\n",
              "\n",
              "    .dataframe tbody tr th {\n",
              "        vertical-align: top;\n",
              "    }\n",
              "\n",
              "    .dataframe thead th {\n",
              "        text-align: right;\n",
              "    }\n",
              "</style>\n",
              "<table border=\"1\" class=\"dataframe\">\n",
              "  <thead>\n",
              "    <tr style=\"text-align: right;\">\n",
              "      <th></th>\n",
              "      <th>Month</th>\n",
              "      <th>WeekOfMonth</th>\n",
              "      <th>DayOfWeek</th>\n",
              "      <th>Make</th>\n",
              "      <th>AccidentArea</th>\n",
              "      <th>DayOfWeekClaimed</th>\n",
              "      <th>MonthClaimed</th>\n",
              "      <th>WeekOfMonthClaimed</th>\n",
              "      <th>Sex</th>\n",
              "      <th>MaritalStatus</th>\n",
              "      <th>...</th>\n",
              "      <th>AgeOfVehicle</th>\n",
              "      <th>AgeOfPolicyHolder</th>\n",
              "      <th>PoliceReportFiled</th>\n",
              "      <th>WitnessPresent</th>\n",
              "      <th>AgentType</th>\n",
              "      <th>NumberOfSuppliments</th>\n",
              "      <th>AddressChange_Claim</th>\n",
              "      <th>NumberOfCars</th>\n",
              "      <th>Year</th>\n",
              "      <th>BasePolicy</th>\n",
              "    </tr>\n",
              "  </thead>\n",
              "  <tbody>\n",
              "    <tr>\n",
              "      <th>0</th>\n",
              "      <td>Dec</td>\n",
              "      <td>5</td>\n",
              "      <td>Wednesday</td>\n",
              "      <td>Honda</td>\n",
              "      <td>Urban</td>\n",
              "      <td>Tuesday</td>\n",
              "      <td>Jan</td>\n",
              "      <td>1</td>\n",
              "      <td>Female</td>\n",
              "      <td>Single</td>\n",
              "      <td>...</td>\n",
              "      <td>3 years</td>\n",
              "      <td>26 to 30</td>\n",
              "      <td>No</td>\n",
              "      <td>No</td>\n",
              "      <td>External</td>\n",
              "      <td>none</td>\n",
              "      <td>1 year</td>\n",
              "      <td>3 to 4</td>\n",
              "      <td>1994</td>\n",
              "      <td>Liability</td>\n",
              "    </tr>\n",
              "    <tr>\n",
              "      <th>1</th>\n",
              "      <td>Jan</td>\n",
              "      <td>3</td>\n",
              "      <td>Wednesday</td>\n",
              "      <td>Honda</td>\n",
              "      <td>Urban</td>\n",
              "      <td>Monday</td>\n",
              "      <td>Jan</td>\n",
              "      <td>4</td>\n",
              "      <td>Male</td>\n",
              "      <td>Single</td>\n",
              "      <td>...</td>\n",
              "      <td>6 years</td>\n",
              "      <td>31 to 35</td>\n",
              "      <td>Yes</td>\n",
              "      <td>No</td>\n",
              "      <td>External</td>\n",
              "      <td>none</td>\n",
              "      <td>no change</td>\n",
              "      <td>1 vehicle</td>\n",
              "      <td>1994</td>\n",
              "      <td>Collision</td>\n",
              "    </tr>\n",
              "    <tr>\n",
              "      <th>2</th>\n",
              "      <td>Oct</td>\n",
              "      <td>5</td>\n",
              "      <td>Friday</td>\n",
              "      <td>Honda</td>\n",
              "      <td>Urban</td>\n",
              "      <td>Thursday</td>\n",
              "      <td>Nov</td>\n",
              "      <td>2</td>\n",
              "      <td>Male</td>\n",
              "      <td>Married</td>\n",
              "      <td>...</td>\n",
              "      <td>7 years</td>\n",
              "      <td>41 to 50</td>\n",
              "      <td>No</td>\n",
              "      <td>No</td>\n",
              "      <td>External</td>\n",
              "      <td>none</td>\n",
              "      <td>no change</td>\n",
              "      <td>1 vehicle</td>\n",
              "      <td>1994</td>\n",
              "      <td>Collision</td>\n",
              "    </tr>\n",
              "    <tr>\n",
              "      <th>3</th>\n",
              "      <td>Jun</td>\n",
              "      <td>2</td>\n",
              "      <td>Saturday</td>\n",
              "      <td>Toyota</td>\n",
              "      <td>Rural</td>\n",
              "      <td>Friday</td>\n",
              "      <td>Jul</td>\n",
              "      <td>1</td>\n",
              "      <td>Male</td>\n",
              "      <td>Married</td>\n",
              "      <td>...</td>\n",
              "      <td>more than 7</td>\n",
              "      <td>51 to 65</td>\n",
              "      <td>Yes</td>\n",
              "      <td>No</td>\n",
              "      <td>External</td>\n",
              "      <td>more than 5</td>\n",
              "      <td>no change</td>\n",
              "      <td>1 vehicle</td>\n",
              "      <td>1994</td>\n",
              "      <td>Liability</td>\n",
              "    </tr>\n",
              "    <tr>\n",
              "      <th>4</th>\n",
              "      <td>Jan</td>\n",
              "      <td>5</td>\n",
              "      <td>Monday</td>\n",
              "      <td>Honda</td>\n",
              "      <td>Urban</td>\n",
              "      <td>Tuesday</td>\n",
              "      <td>Feb</td>\n",
              "      <td>2</td>\n",
              "      <td>Female</td>\n",
              "      <td>Single</td>\n",
              "      <td>...</td>\n",
              "      <td>5 years</td>\n",
              "      <td>31 to 35</td>\n",
              "      <td>No</td>\n",
              "      <td>No</td>\n",
              "      <td>External</td>\n",
              "      <td>none</td>\n",
              "      <td>no change</td>\n",
              "      <td>1 vehicle</td>\n",
              "      <td>1994</td>\n",
              "      <td>Collision</td>\n",
              "    </tr>\n",
              "    <tr>\n",
              "      <th>...</th>\n",
              "      <td>...</td>\n",
              "      <td>...</td>\n",
              "      <td>...</td>\n",
              "      <td>...</td>\n",
              "      <td>...</td>\n",
              "      <td>...</td>\n",
              "      <td>...</td>\n",
              "      <td>...</td>\n",
              "      <td>...</td>\n",
              "      <td>...</td>\n",
              "      <td>...</td>\n",
              "      <td>...</td>\n",
              "      <td>...</td>\n",
              "      <td>...</td>\n",
              "      <td>...</td>\n",
              "      <td>...</td>\n",
              "      <td>...</td>\n",
              "      <td>...</td>\n",
              "      <td>...</td>\n",
              "      <td>...</td>\n",
              "      <td>...</td>\n",
              "    </tr>\n",
              "    <tr>\n",
              "      <th>15415</th>\n",
              "      <td>Nov</td>\n",
              "      <td>4</td>\n",
              "      <td>Friday</td>\n",
              "      <td>Toyota</td>\n",
              "      <td>Urban</td>\n",
              "      <td>Tuesday</td>\n",
              "      <td>Nov</td>\n",
              "      <td>5</td>\n",
              "      <td>Male</td>\n",
              "      <td>Married</td>\n",
              "      <td>...</td>\n",
              "      <td>6 years</td>\n",
              "      <td>31 to 35</td>\n",
              "      <td>No</td>\n",
              "      <td>No</td>\n",
              "      <td>External</td>\n",
              "      <td>none</td>\n",
              "      <td>no change</td>\n",
              "      <td>1 vehicle</td>\n",
              "      <td>1996</td>\n",
              "      <td>Collision</td>\n",
              "    </tr>\n",
              "    <tr>\n",
              "      <th>15416</th>\n",
              "      <td>Nov</td>\n",
              "      <td>5</td>\n",
              "      <td>Thursday</td>\n",
              "      <td>Pontiac</td>\n",
              "      <td>Urban</td>\n",
              "      <td>Friday</td>\n",
              "      <td>Dec</td>\n",
              "      <td>1</td>\n",
              "      <td>Male</td>\n",
              "      <td>Married</td>\n",
              "      <td>...</td>\n",
              "      <td>6 years</td>\n",
              "      <td>31 to 35</td>\n",
              "      <td>No</td>\n",
              "      <td>No</td>\n",
              "      <td>External</td>\n",
              "      <td>more than 5</td>\n",
              "      <td>no change</td>\n",
              "      <td>3 to 4</td>\n",
              "      <td>1996</td>\n",
              "      <td>Liability</td>\n",
              "    </tr>\n",
              "    <tr>\n",
              "      <th>15417</th>\n",
              "      <td>Nov</td>\n",
              "      <td>5</td>\n",
              "      <td>Thursday</td>\n",
              "      <td>Toyota</td>\n",
              "      <td>Rural</td>\n",
              "      <td>Friday</td>\n",
              "      <td>Dec</td>\n",
              "      <td>1</td>\n",
              "      <td>Male</td>\n",
              "      <td>Single</td>\n",
              "      <td>...</td>\n",
              "      <td>5 years</td>\n",
              "      <td>26 to 30</td>\n",
              "      <td>No</td>\n",
              "      <td>No</td>\n",
              "      <td>External</td>\n",
              "      <td>1 to 2</td>\n",
              "      <td>no change</td>\n",
              "      <td>1 vehicle</td>\n",
              "      <td>1996</td>\n",
              "      <td>Collision</td>\n",
              "    </tr>\n",
              "    <tr>\n",
              "      <th>15418</th>\n",
              "      <td>Dec</td>\n",
              "      <td>1</td>\n",
              "      <td>Monday</td>\n",
              "      <td>Toyota</td>\n",
              "      <td>Urban</td>\n",
              "      <td>Thursday</td>\n",
              "      <td>Dec</td>\n",
              "      <td>2</td>\n",
              "      <td>Female</td>\n",
              "      <td>Married</td>\n",
              "      <td>...</td>\n",
              "      <td>2 years</td>\n",
              "      <td>31 to 35</td>\n",
              "      <td>No</td>\n",
              "      <td>No</td>\n",
              "      <td>External</td>\n",
              "      <td>more than 5</td>\n",
              "      <td>no change</td>\n",
              "      <td>1 vehicle</td>\n",
              "      <td>1996</td>\n",
              "      <td>All Perils</td>\n",
              "    </tr>\n",
              "    <tr>\n",
              "      <th>15419</th>\n",
              "      <td>Dec</td>\n",
              "      <td>2</td>\n",
              "      <td>Wednesday</td>\n",
              "      <td>Toyota</td>\n",
              "      <td>Urban</td>\n",
              "      <td>Thursday</td>\n",
              "      <td>Dec</td>\n",
              "      <td>3</td>\n",
              "      <td>Male</td>\n",
              "      <td>Single</td>\n",
              "      <td>...</td>\n",
              "      <td>5 years</td>\n",
              "      <td>26 to 30</td>\n",
              "      <td>No</td>\n",
              "      <td>No</td>\n",
              "      <td>External</td>\n",
              "      <td>1 to 2</td>\n",
              "      <td>no change</td>\n",
              "      <td>1 vehicle</td>\n",
              "      <td>1996</td>\n",
              "      <td>Collision</td>\n",
              "    </tr>\n",
              "  </tbody>\n",
              "</table>\n",
              "<p>15420 rows × 33 columns</p>\n",
              "</div>\n",
              "      <button class=\"colab-df-convert\" onclick=\"convertToInteractive('df-628d8d18-71b3-4f58-87ce-f1f4d775c812')\"\n",
              "              title=\"Convert this dataframe to an interactive table.\"\n",
              "              style=\"display:none;\">\n",
              "        \n",
              "  <svg xmlns=\"http://www.w3.org/2000/svg\" height=\"24px\"viewBox=\"0 0 24 24\"\n",
              "       width=\"24px\">\n",
              "    <path d=\"M0 0h24v24H0V0z\" fill=\"none\"/>\n",
              "    <path d=\"M18.56 5.44l.94 2.06.94-2.06 2.06-.94-2.06-.94-.94-2.06-.94 2.06-2.06.94zm-11 1L8.5 8.5l.94-2.06 2.06-.94-2.06-.94L8.5 2.5l-.94 2.06-2.06.94zm10 10l.94 2.06.94-2.06 2.06-.94-2.06-.94-.94-2.06-.94 2.06-2.06.94z\"/><path d=\"M17.41 7.96l-1.37-1.37c-.4-.4-.92-.59-1.43-.59-.52 0-1.04.2-1.43.59L10.3 9.45l-7.72 7.72c-.78.78-.78 2.05 0 2.83L4 21.41c.39.39.9.59 1.41.59.51 0 1.02-.2 1.41-.59l7.78-7.78 2.81-2.81c.8-.78.8-2.07 0-2.86zM5.41 20L4 18.59l7.72-7.72 1.47 1.35L5.41 20z\"/>\n",
              "  </svg>\n",
              "      </button>\n",
              "      \n",
              "  <style>\n",
              "    .colab-df-container {\n",
              "      display:flex;\n",
              "      flex-wrap:wrap;\n",
              "      gap: 12px;\n",
              "    }\n",
              "\n",
              "    .colab-df-convert {\n",
              "      background-color: #E8F0FE;\n",
              "      border: none;\n",
              "      border-radius: 50%;\n",
              "      cursor: pointer;\n",
              "      display: none;\n",
              "      fill: #1967D2;\n",
              "      height: 32px;\n",
              "      padding: 0 0 0 0;\n",
              "      width: 32px;\n",
              "    }\n",
              "\n",
              "    .colab-df-convert:hover {\n",
              "      background-color: #E2EBFA;\n",
              "      box-shadow: 0px 1px 2px rgba(60, 64, 67, 0.3), 0px 1px 3px 1px rgba(60, 64, 67, 0.15);\n",
              "      fill: #174EA6;\n",
              "    }\n",
              "\n",
              "    [theme=dark] .colab-df-convert {\n",
              "      background-color: #3B4455;\n",
              "      fill: #D2E3FC;\n",
              "    }\n",
              "\n",
              "    [theme=dark] .colab-df-convert:hover {\n",
              "      background-color: #434B5C;\n",
              "      box-shadow: 0px 1px 3px 1px rgba(0, 0, 0, 0.15);\n",
              "      filter: drop-shadow(0px 1px 2px rgba(0, 0, 0, 0.3));\n",
              "      fill: #FFFFFF;\n",
              "    }\n",
              "  </style>\n",
              "\n",
              "      <script>\n",
              "        const buttonEl =\n",
              "          document.querySelector('#df-628d8d18-71b3-4f58-87ce-f1f4d775c812 button.colab-df-convert');\n",
              "        buttonEl.style.display =\n",
              "          google.colab.kernel.accessAllowed ? 'block' : 'none';\n",
              "\n",
              "        async function convertToInteractive(key) {\n",
              "          const element = document.querySelector('#df-628d8d18-71b3-4f58-87ce-f1f4d775c812');\n",
              "          const dataTable =\n",
              "            await google.colab.kernel.invokeFunction('convertToInteractive',\n",
              "                                                     [key], {});\n",
              "          if (!dataTable) return;\n",
              "\n",
              "          const docLinkHtml = 'Like what you see? Visit the ' +\n",
              "            '<a target=\"_blank\" href=https://colab.research.google.com/notebooks/data_table.ipynb>data table notebook</a>'\n",
              "            + ' to learn more about interactive tables.';\n",
              "          element.innerHTML = '';\n",
              "          dataTable['output_type'] = 'display_data';\n",
              "          await google.colab.output.renderOutput(dataTable, element);\n",
              "          const docLink = document.createElement('div');\n",
              "          docLink.innerHTML = docLinkHtml;\n",
              "          element.appendChild(docLink);\n",
              "        }\n",
              "      </script>\n",
              "    </div>\n",
              "  </div>\n",
              "  "
            ]
          },
          "metadata": {},
          "execution_count": 4
        }
      ]
    },
    {
      "cell_type": "code",
      "source": [
        "categorical_variables = [\"Make\", \"AccidentArea\", \"Sex\", \"MaritalStatus\", \"Fault\", \"PolicyType\", \"VehicleCategory\",  \"AgentType\", \"WitnessPresent\", \"PoliceReportFiled\", \"RepNumber\", \"BasePolicy\"]\n",
        "ordinal_variables = [\"VehiclePrice\", \"AgeOfPolicyHolder\", \"Deductible\", \"DriverRating\", \"PastNumberOfClaims\", \"AgeOfVehicle\", \"AgeOfPolicyHolder\", \"AddressChange_Claim\", \"NumberOfSuppliments\", \"NumberOfCars\"]\n",
        "numerical_variables = [\"Age\"]\n",
        "time_variables = [\"Month\", \"Week of Month\", \"DayOfWeek\", \"MonthClaimed\", \"DayOfWeekClaimed\", \"WeekOfMonthClaimed\"]"
      ],
      "metadata": {
        "id": "Ulns02VKgirs"
      },
      "execution_count": null,
      "outputs": []
    },
    {
      "cell_type": "markdown",
      "source": [
        "## Removal of invalid data points from EDA"
      ],
      "metadata": {
        "id": "uk9wSg4ACL-T"
      }
    },
    {
      "cell_type": "code",
      "source": [
        "df = df.loc[df[\"MonthClaimed\"] != '0']"
      ],
      "metadata": {
        "id": "6jDaSDctCMF-"
      },
      "execution_count": null,
      "outputs": []
    },
    {
      "cell_type": "markdown",
      "source": [
        "## Drop irrelevant/unuseful features"
      ],
      "metadata": {
        "id": "dhHOtdmeGoQu"
      }
    },
    {
      "cell_type": "code",
      "source": [
        "df = df.drop(columns = ['Year', 'Days_Policy_Accident', 'Days_Policy_Claim', \"PolicyNumber\", \"Age\"])\n"
      ],
      "metadata": {
        "id": "yjqwOFo9GkEK"
      },
      "execution_count": null,
      "outputs": []
    },
    {
      "cell_type": "markdown",
      "source": [
        "# Feature Engineering for categorical variables"
      ],
      "metadata": {
        "id": "w0KpdHf4mZYg"
      }
    },
    {
      "cell_type": "code",
      "source": [
        "#df = pd.get_dummies(df, columns=categorical_variables)"
      ],
      "metadata": {
        "id": "J_7RBCqcrKe2"
      },
      "execution_count": null,
      "outputs": []
    },
    {
      "cell_type": "markdown",
      "source": [
        "### Make variable\n"
      ],
      "metadata": {
        "id": "c_UlDhOAC_nv"
      }
    },
    {
      "cell_type": "code",
      "source": [
        "df['Make'].value_counts()"
      ],
      "metadata": {
        "colab": {
          "base_uri": "https://localhost:8080/"
        },
        "id": "ys4BbkdNDMjX",
        "outputId": "da2b3c3d-3b13-45d2-c3ab-b38661999b9f"
      },
      "execution_count": null,
      "outputs": [
        {
          "output_type": "execute_result",
          "data": {
            "text/plain": [
              "Pontiac      3837\n",
              "Toyota       3121\n",
              "Honda        2800\n",
              "Mazda        2354\n",
              "Chevrolet    1681\n",
              "Accura        472\n",
              "Ford          450\n",
              "VW            283\n",
              "Dodge         109\n",
              "Saab          108\n",
              "Mercury        83\n",
              "Saturn         58\n",
              "Nisson         30\n",
              "BMW            15\n",
              "Jaguar          6\n",
              "Porche          5\n",
              "Mecedes         4\n",
              "Ferrari         2\n",
              "Lexus           1\n",
              "Name: Make, dtype: int64"
            ]
          },
          "metadata": {},
          "execution_count": 9
        }
      ]
    },
    {
      "cell_type": "markdown",
      "source": [
        "Collate variables that occur less than 50 times into Others"
      ],
      "metadata": {
        "id": "Te8kqEntEe78"
      }
    },
    {
      "cell_type": "code",
      "source": [
        "def collate_make(x):\n",
        "    if x in ['Nisson', 'BMW', 'Jaguar', 'Porche', 'Mecedes', 'Ferrari', 'Lexus']:\n",
        "        return \"Others\"\n",
        "    else:\n",
        "        return x\n",
        "\n",
        "df['Make'] = df['Make'].apply(lambda x: collate_make(x))\n",
        "print(df['Make'].value_counts())"
      ],
      "metadata": {
        "colab": {
          "base_uri": "https://localhost:8080/"
        },
        "id": "sLPVPNSEDUx6",
        "outputId": "329d3b11-797f-4536-f764-950f3a529649"
      },
      "execution_count": null,
      "outputs": [
        {
          "output_type": "stream",
          "name": "stdout",
          "text": [
            "Pontiac      3837\n",
            "Toyota       3121\n",
            "Honda        2800\n",
            "Mazda        2354\n",
            "Chevrolet    1681\n",
            "Accura        472\n",
            "Ford          450\n",
            "VW            283\n",
            "Dodge         109\n",
            "Saab          108\n",
            "Mercury        83\n",
            "Others         63\n",
            "Saturn         58\n",
            "Name: Make, dtype: int64\n"
          ]
        }
      ]
    },
    {
      "cell_type": "code",
      "source": [
        "df = pd.get_dummies(df, columns=['Make'])"
      ],
      "metadata": {
        "id": "kSqiDGBoEnEi"
      },
      "execution_count": null,
      "outputs": []
    },
    {
      "cell_type": "markdown",
      "source": [
        "### Marital Status Variable"
      ],
      "metadata": {
        "id": "jWf__TEfE6t1"
      }
    },
    {
      "cell_type": "code",
      "source": [
        "df['MaritalStatus'].value_counts()"
      ],
      "metadata": {
        "colab": {
          "base_uri": "https://localhost:8080/"
        },
        "id": "kAFdPmLwExT5",
        "outputId": "a45bf629-538b-4f9f-ee5a-6e424ecfc157"
      },
      "execution_count": null,
      "outputs": [
        {
          "output_type": "execute_result",
          "data": {
            "text/plain": [
              "Married     10625\n",
              "Single       4683\n",
              "Divorced       76\n",
              "Widow          35\n",
              "Name: MaritalStatus, dtype: int64"
            ]
          },
          "metadata": {},
          "execution_count": 12
        }
      ]
    },
    {
      "cell_type": "code",
      "source": [
        "def collate_marital_status(x):\n",
        "    if x in ['Divorced', 'Widow']:\n",
        "        return \"Others\"\n",
        "    else:\n",
        "        return x\n",
        "\n",
        "df['MaritalStatus'] = df['MaritalStatus'].apply(lambda x: collate_marital_status(x))\n",
        "print(df['MaritalStatus'].value_counts())"
      ],
      "metadata": {
        "colab": {
          "base_uri": "https://localhost:8080/"
        },
        "id": "gEuvMTezFLh2",
        "outputId": "d01336d6-4190-41d1-906e-fe964ecb8ecd"
      },
      "execution_count": null,
      "outputs": [
        {
          "output_type": "stream",
          "name": "stdout",
          "text": [
            "Married    10625\n",
            "Single      4683\n",
            "Others       111\n",
            "Name: MaritalStatus, dtype: int64\n"
          ]
        }
      ]
    },
    {
      "cell_type": "code",
      "source": [
        "df = pd.get_dummies(df, columns=['MaritalStatus'])"
      ],
      "metadata": {
        "id": "OYJS-I3RFaYY"
      },
      "execution_count": null,
      "outputs": []
    },
    {
      "cell_type": "markdown",
      "source": [
        "### Policy Type variable"
      ],
      "metadata": {
        "id": "td_4YF0jGw5D"
      }
    },
    {
      "cell_type": "code",
      "source": [
        "df['PolicyType'].value_counts()"
      ],
      "metadata": {
        "colab": {
          "base_uri": "https://localhost:8080/"
        },
        "id": "tDJUvwMXFeY9",
        "outputId": "a8f28d6a-fb56-4411-ec7a-72037589c88e"
      },
      "execution_count": null,
      "outputs": [
        {
          "output_type": "execute_result",
          "data": {
            "text/plain": [
              "Sedan - Collision       5584\n",
              "Sedan - Liability       4987\n",
              "Sedan - All Perils      4086\n",
              "Sport - Collision        348\n",
              "Utility - All Perils     340\n",
              "Utility - Collision       30\n",
              "Sport - All Perils        22\n",
              "Utility - Liability       21\n",
              "Sport - Liability          1\n",
              "Name: PolicyType, dtype: int64"
            ]
          },
          "metadata": {},
          "execution_count": 15
        }
      ]
    },
    {
      "cell_type": "code",
      "source": [
        "def collate_policy_type(x):\n",
        "    if x in ['Utility - Collision', 'Sport - All Perils', 'Utility - Liability', 'Sport - Liability']:\n",
        "        return \"Others\"\n",
        "    else:\n",
        "        return x\n",
        "\n",
        "df['PolicyType'] = df['PolicyType'].apply(lambda x: collate_policy_type(x))\n",
        "print(df['PolicyType'].value_counts())"
      ],
      "metadata": {
        "colab": {
          "base_uri": "https://localhost:8080/"
        },
        "id": "mlBz0hxFFlQM",
        "outputId": "ba2fde04-b25d-4ebc-9c1e-6ae64de2c463"
      },
      "execution_count": null,
      "outputs": [
        {
          "output_type": "stream",
          "name": "stdout",
          "text": [
            "Sedan - Collision       5584\n",
            "Sedan - Liability       4987\n",
            "Sedan - All Perils      4086\n",
            "Sport - Collision        348\n",
            "Utility - All Perils     340\n",
            "Others                    74\n",
            "Name: PolicyType, dtype: int64\n"
          ]
        }
      ]
    },
    {
      "cell_type": "code",
      "source": [
        "df = pd.get_dummies(df, columns=['PolicyType'])"
      ],
      "metadata": {
        "id": "p-vbhQbHFzwm"
      },
      "execution_count": null,
      "outputs": []
    },
    {
      "cell_type": "markdown",
      "source": [
        "### Creating dummy variables for the rest of the categorical variables"
      ],
      "metadata": {
        "id": "GUVHVZv0G336"
      }
    },
    {
      "cell_type": "code",
      "source": [
        "remaining_categorical = [\"AccidentArea\", \"Sex\",  \"Fault\", \"VehicleCategory\",  \"AgentType\", \"WitnessPresent\", \"PoliceReportFiled\", \"RepNumber\", \"BasePolicy\"]\n",
        "df = pd.get_dummies(df, columns=remaining_categorical)"
      ],
      "metadata": {
        "id": "Ha-tnjpGF3ym"
      },
      "execution_count": null,
      "outputs": []
    },
    {
      "cell_type": "markdown",
      "source": [
        "#Feature Engineering for Ordinal Variables"
      ],
      "metadata": {
        "id": "NfruKvnMmlxt"
      }
    },
    {
      "cell_type": "code",
      "source": [
        "print(df[\"VehiclePrice\"].value_counts())\n"
      ],
      "metadata": {
        "id": "c07gLqwURk7o",
        "colab": {
          "base_uri": "https://localhost:8080/"
        },
        "outputId": "3e9e6253-026f-40e2-ecb7-e38b773f985b"
      },
      "execution_count": null,
      "outputs": [
        {
          "output_type": "stream",
          "name": "stdout",
          "text": [
            "20000 to 29000     8079\n",
            "30000 to 39000     3533\n",
            "more than 69000    2163\n",
            "less than 20000    1096\n",
            "40000 to 59000      461\n",
            "60000 to 69000       87\n",
            "Name: VehiclePrice, dtype: int64\n"
          ]
        }
      ]
    },
    {
      "cell_type": "code",
      "source": [
        "price = [\"less than 20000\", \"20000 to 29000\", \"30000 to 39000\", \"40000 to 59000\", \"60000 to 69000\", \"more than 69000\"]\n",
        "enc = OrdinalEncoder(categories = [price])\n",
        "\n",
        "df[\"VehiclePrice_categories\"] = enc.fit_transform(df.loc[:,['VehiclePrice']])"
      ],
      "metadata": {
        "id": "S0hpbdNqHlLd"
      },
      "execution_count": null,
      "outputs": []
    },
    {
      "cell_type": "code",
      "source": [
        "age = ['16 to 17', '18 to 20', '21 to 25', '26 to 30','31 to 35','36 to 40','41 to 50','51 to 65','over 65',]\n",
        "enc = OrdinalEncoder(categories = [age])\n",
        "df[\"AgeOfPolicyHolder_categories\"] = enc.fit_transform(df.loc[:,['AgeOfPolicyHolder']])"
      ],
      "metadata": {
        "id": "juD98QRISA47"
      },
      "execution_count": null,
      "outputs": []
    },
    {
      "cell_type": "code",
      "source": [
        "deductible = [300, 400, 500, 700]\n",
        "enc = OrdinalEncoder(categories = [deductible])\n",
        "df[\"Deductible_categories\"] = enc.fit_transform(df.loc[:,['Deductible']])"
      ],
      "metadata": {
        "id": "MvMOvcUTd9KL"
      },
      "execution_count": null,
      "outputs": []
    },
    {
      "cell_type": "code",
      "source": [
        "df[\"PastNumberOfClaims\"].value_counts()\n",
        "number = [\"none\", \"1\", \"2 to 4\", \"more than 4\"]\n",
        "enc = OrdinalEncoder(categories = [number])\n",
        "df['PastNumberOfClaims_categories'] = enc.fit_transform(df.loc[:,['PastNumberOfClaims']])"
      ],
      "metadata": {
        "id": "jngZr31milJE"
      },
      "execution_count": null,
      "outputs": []
    },
    {
      "cell_type": "code",
      "source": [
        "df[\"AgeOfVehicle\"].value_counts()\n",
        "vehicle_age = [\"new\", \"2 years\", \"3 years\", \"4 years\", \"5 years\", \"6 years\", \"7 years\", \"more than 7\"]\n",
        "enc = OrdinalEncoder(categories = [vehicle_age])\n",
        "df['AgeOfVehicle_categories'] = enc.fit_transform(df.loc[:,['AgeOfVehicle']])"
      ],
      "metadata": {
        "id": "Dn04K4_qiwVD"
      },
      "execution_count": null,
      "outputs": []
    },
    {
      "cell_type": "code",
      "source": [
        "address_change = [\"no change\", 'under 6 months', '1 year', \"2 to 3 years\", \"4 to 8 years\"]\n",
        "enc = OrdinalEncoder(categories = [address_change])\n",
        "df['AddressChange_Claim_categories'] = enc.fit_transform(df.loc[:,['AddressChange_Claim']])"
      ],
      "metadata": {
        "id": "e-Wmj6DOju-I"
      },
      "execution_count": null,
      "outputs": []
    },
    {
      "cell_type": "code",
      "source": [
        "df[\"NumberOfSuppliments\"].value_counts()\n",
        "suppliments = [\"none\", \"1 to 2\", \"3 to 5\", \"more than 5\"]\n",
        "enc = OrdinalEncoder(categories = [suppliments])\n",
        "df['NumberOfSuppliments_categories'] = enc.fit_transform(df.loc[:,['NumberOfSuppliments']])"
      ],
      "metadata": {
        "id": "Npc7Jhe-kZ5I"
      },
      "execution_count": null,
      "outputs": []
    },
    {
      "cell_type": "code",
      "source": [
        "cars = [\"1 vehicle\", \"2 vehicles\", '3 to 4', '5 to 8', 'more than 8']\n",
        "enc = OrdinalEncoder(categories = [cars])\n",
        "df['NumberOfCars_categories'] = enc.fit_transform(df.loc[:,['NumberOfCars']])"
      ],
      "metadata": {
        "id": "gB1Jx-_AJHxI"
      },
      "execution_count": null,
      "outputs": []
    },
    {
      "cell_type": "markdown",
      "source": [
        "# Remove string ordinal variables"
      ],
      "metadata": {
        "id": "MckPGLO7SVZp"
      }
    },
    {
      "cell_type": "code",
      "source": [
        "df.drop(columns = ordinal_variables, inplace = True)"
      ],
      "metadata": {
        "id": "wyRNKFD4lEii"
      },
      "execution_count": null,
      "outputs": []
    },
    {
      "cell_type": "markdown",
      "source": [
        "# Time variable feature engineering using cyclical encoding"
      ],
      "metadata": {
        "id": "QAtuWIQrScYF"
      }
    },
    {
      "cell_type": "code",
      "source": [
        "#Cyclical Encoding for time variables\n",
        "days = {\"Monday\":1, \"Tuesday\":2, \"Wednesday\":3, \"Thursday\":4, \"Friday\":5, \"Saturday\":6, \"Sunday\":7}\n",
        "df['DayOfWeek_numeric'] = df['DayOfWeek'].apply(lambda x: days.get(x))\n",
        "df['DayOfWeekClaimed_numeric'] = df['DayOfWeekClaimed'].apply(lambda x: days.get(x))\n",
        "months = {\"Jan\":1, \"Feb\":2, \"Mar\":3, \"Apr\": 4, \"May\":5, \"Jun\":6, \"Jul\": 7, \"Aug\":8, \"Sep\":9, \"Oct\":10, \"Nov\":11, \"Dec\":12}\n",
        "df['MonthClaimed_numeric'] = df['MonthClaimed'].apply(lambda x: months.get(x))\n",
        "df['Month_numeric'] = df['Month'].apply(lambda x: months.get(x))"
      ],
      "metadata": {
        "id": "012HmdRpn4kF"
      },
      "execution_count": null,
      "outputs": []
    },
    {
      "cell_type": "code",
      "source": [
        "def cyclical_encoding(data, col, max_val):\n",
        "    data[col + '_sin'] = np.sin(2 * np.pi * data[col]/max_val)\n",
        "    data[col + '_cos'] = np.cos(2 * np.pi * data[col]/max_val)\n",
        "    return data"
      ],
      "metadata": {
        "id": "j_3TOun-y-4a"
      },
      "execution_count": null,
      "outputs": []
    },
    {
      "cell_type": "code",
      "source": [
        "time_variables = [\"Month_numeric\", \"WeekOfMonth\", \"DayOfWeek_numeric\", \"MonthClaimed_numeric\", \"DayOfWeekClaimed_numeric\", \"WeekOfMonthClaimed\"]\n",
        "\n",
        "for column in time_variables:\n",
        "    max_values = [12, 5, 7, 12, 5, 7]\n",
        "    pointer = 0\n",
        "    cyclical_encoding(df, column, max_values[pointer])\n",
        "    pointer += 1"
      ],
      "metadata": {
        "id": "5tJ39H5ozBuz"
      },
      "execution_count": null,
      "outputs": []
    },
    {
      "cell_type": "code",
      "source": [
        "df.drop(columns = time_variables, inplace = True)"
      ],
      "metadata": {
        "id": "tEZEGE7kOunJ"
      },
      "execution_count": null,
      "outputs": []
    },
    {
      "cell_type": "code",
      "source": [
        "df.drop(columns = [\"Month\", \"DayOfWeek\", \"DayOfWeekClaimed\", \"MonthClaimed\"], inplace = True)"
      ],
      "metadata": {
        "id": "8ubg70RDPKtl"
      },
      "execution_count": null,
      "outputs": []
    },
    {
      "cell_type": "code",
      "source": [
        "df.to_csv(\"Model_Data.csv\")"
      ],
      "metadata": {
        "id": "MFZ8hfOwQXbl"
      },
      "execution_count": null,
      "outputs": []
    },
    {
      "cell_type": "code",
      "source": [
        "df.isna().any()"
      ],
      "metadata": {
        "id": "vwL_C_OZ14tm",
        "outputId": "61289113-c993-4f27-b05a-cf9aa8e91387",
        "colab": {
          "base_uri": "https://localhost:8080/"
        }
      },
      "execution_count": null,
      "outputs": [
        {
          "output_type": "execute_result",
          "data": {
            "text/plain": [
              "FraudFound_P                    False\n",
              "Make_Accura                     False\n",
              "Make_Chevrolet                  False\n",
              "Make_Dodge                      False\n",
              "Make_Ford                       False\n",
              "                                ...  \n",
              "MonthClaimed_numeric_cos        False\n",
              "DayOfWeekClaimed_numeric_sin    False\n",
              "DayOfWeekClaimed_numeric_cos    False\n",
              "WeekOfMonthClaimed_sin          False\n",
              "WeekOfMonthClaimed_cos          False\n",
              "Length: 77, dtype: bool"
            ]
          },
          "metadata": {},
          "execution_count": 35
        }
      ]
    },
    {
      "cell_type": "code",
      "source": [],
      "metadata": {
        "id": "wm8DPxD316ny"
      },
      "execution_count": null,
      "outputs": []
    }
  ]
}